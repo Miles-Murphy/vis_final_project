{
 "cells": [
  {
   "cell_type": "markdown",
   "metadata": {},
   "source": [
    "# Exploration of US Flight Data:\n",
    "## An glimpse into flight data in the year of the author's birth (1988)\n",
    "### Created by Miles Murphy\n",
    "#### October 31, 2020\n",
    "\n",
    "# Add Coloring and formatting to center, etc"
   ]
  },
  {
   "cell_type": "markdown",
   "metadata": {},
   "source": [
    "## Table of Contents:\n",
    "* [Introduction](#introduction)\n",
    "* [Project Background](#project_background)\n",
    "    a. [Data Source Information](#data_source_information)\n",
    "    b. [Data Exploration](#data_exploration)"
   ]
  },
  {
   "cell_type": "markdown",
   "metadata": {},
   "source": [
    "## Build a Table of Contents - if Possible"
   ]
  },
  {
   "cell_type": "markdown",
   "metadata": {},
   "source": [
    "## Introduction: <a name=\"introduction\"></a>"
   ]
  },
  {
   "cell_type": "markdown",
   "metadata": {},
   "source": [
    "The last 6 months of my life have been very productive while simultaneously mundane. Covid-19 turned society upside-down and the plan I was developing for my life took a 180-degree turn. Instead of being in a new public service role in a larger government, I find myself completing 6 months of 'night-school' classes related to Data Analysis. The last 6 months have shown me that I do not want to stay in government work, at least not in a front-facing role. Instead, I hope to find opportunities related to my interests and passions, data analysis/programming and environmental conservation respectively. \n",
    "\n",
    "I am telling you all this, because this exploration of flight data for the year of 1988 is my last project in my second Nanodegree and it will be submitted within weeks, if not days, of my 32nd birthday. I had no idea what I was going to do when I graduated college in 2011, but I can assure you it did not involve me having even a remote understanding of Python, Git, SQL, and other programming related languages. Yet, on this Halloween evening, I am sitting infront of my desktop building the outline of a project which may eventually help open a door for a new job and an entirely new trajectory for my life. So, as I socially distance I will take you through flight data from the year 1988, in honor of my impending birthday and the start this new adventure. "
   ]
  },
  {
   "cell_type": "markdown",
   "metadata": {},
   "source": [
    "## Project Background: <a name=\"project_background\"></a>"
   ]
  },
  {
   "cell_type": "markdown",
   "metadata": {},
   "source": [
    "### Data Source Information: <a name=\"data_source_informationd\"></a>"
   ]
  },
  {
   "cell_type": "markdown",
   "metadata": {},
   "source": [
    "### Data Details: <a name=\"data_exploration\"></a>"
   ]
  },
  {
   "cell_type": "code",
   "execution_count": 2,
   "metadata": {},
   "outputs": [],
   "source": [
    "#import packages and set plots to be embedded\n",
    "import matplotlib.pyplot as plt\n",
    "import seaborn as sns\n",
    "import numpy as np\n",
    "import pandas as pd\n",
    "\n",
    "%matplotlib inline"
   ]
  },
  {
   "cell_type": "code",
   "execution_count": null,
   "metadata": {},
   "outputs": [],
   "source": [
    "#load dataset into a pandas df\n",
    "\n",
    "flights = pd.read_csv('')"
   ]
  }
 ],
 "metadata": {
  "kernelspec": {
   "display_name": "Python 3",
   "language": "python",
   "name": "python3"
  },
  "language_info": {
   "codemirror_mode": {
    "name": "ipython",
    "version": 3
   },
   "file_extension": ".py",
   "mimetype": "text/x-python",
   "name": "python",
   "nbconvert_exporter": "python",
   "pygments_lexer": "ipython3",
   "version": "3.7.7"
  }
 },
 "nbformat": 4,
 "nbformat_minor": 4
}
