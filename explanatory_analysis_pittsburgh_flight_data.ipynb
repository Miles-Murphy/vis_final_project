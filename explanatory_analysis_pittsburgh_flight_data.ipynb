{
 "cells": [
  {
   "cell_type": "markdown",
   "metadata": {
    "slideshow": {
     "slide_type": "slide"
    }
   },
   "source": [
    "# <center>~ Pittsburgh Flight Data Explanatory Analysis ~</center>\n",
    "## <center>An exploration into Delay Flights in Pittsburgh, PA in 2007</center>\n",
    "<p><em>Created by Miles Murphy</em></p>\n",
    "<em>November 11, 2020</em>"
   ]
  },
  {
   "cell_type": "markdown",
   "metadata": {
    "slideshow": {
     "slide_type": "skip"
    }
   },
   "source": [
    "## Introduction: <a name=\"introduction\"></a>"
   ]
  },
  {
   "cell_type": "markdown",
   "metadata": {
    "slideshow": {
     "slide_type": "skip"
    }
   },
   "source": [
    "The following analysis will build upon the Exploratory analysis conducted on US Flight Data. The previous analysis focused on understand the basic nature of the flight data and then focusing in on flight data in Pittsburgh, PA in the years 1988 and 2007. This years are arbitrarily chosen from a data perspective, but are very important to the analyst's life as they are the year of his birth in Pittsburgh and the year he left Pittsburgh as an 18 year old \"adult\". \n",
    "\n",
    "Now, after being created and cleaned in the exploratory analysis, this delays subdataset features just flights in Pittsburgh in 2007 which experience delays from one (or more) of 5 delay types; Carrier, Weather, NAS (National Air System), Security, and Late Aircraft delays. The following exploratory analysis will look at some basic features of this dataframe with univariate analysis and then expand upon those features with bivariate or multivariate figures. "
   ]
  },
  {
   "cell_type": "markdown",
   "metadata": {
    "slideshow": {
     "slide_type": "skip"
    }
   },
   "source": [
    "# Table of Contents:\n",
    "1. [Introduction](#introduction)\n",
    "2. [Project Background](#project_background)\n",
    "    1. [Data Source Information](#data_source_information)\n",
    "    2. [Dataframe Basic Information](#dataframe_information)\n",
    "3. [Explanatory Analysis](#explanatory_analysis)\n",
    "    1. [Univariate Exploration](#univariate_exploration)\n",
    "        a. [Most Popular Month to Fly](#popular_month)\n",
    "        b. [Most Popular Day of the Week to Fly](#popular_day)\n",
    "    2. [Bivariate Exploration](#bivariate_exploration)\n",
    "    3. [Multivariate Exploration](#multivariate_exploration)\n",
    "5. [Project Conclusions and Results](#project_conclusions)\n"
   ]
  },
  {
   "cell_type": "markdown",
   "metadata": {
    "slideshow": {
     "slide_type": "slide"
    }
   },
   "source": [
    "## Project Background: <a name=\"project_background\"></a>"
   ]
  },
  {
   "cell_type": "markdown",
   "metadata": {
    "slideshow": {
     "slide_type": "slide"
    }
   },
   "source": [
    "This explanatory data analysis is part of the larger Udacity Data Analyst Nanodegree. The final project for the Data Visualization process involves the exploratory and explanatory analysis of a dataset. US Flight data was one of the provided options."
   ]
  },
  {
   "cell_type": "markdown",
   "metadata": {
    "slideshow": {
     "slide_type": "slide"
    }
   },
   "source": [
    "### Data Source Information: <a name=\"data_source_information\"></a>"
   ]
  },
  {
   "cell_type": "markdown",
   "metadata": {
    "slideshow": {
     "slide_type": "skip"
    }
   },
   "source": [
    "The US flight data utilized in both the exploratory analysis and this explanatory analysis of delayed flights in Pittsburgh all come from the original datasets colelcted by the United States Department of Transportation, Bureau of Transportation Statistics. The Bureau has been collecting data about the 'on-time' performance of all flights from 1987 to the present. The exploratory analysis originally explored flight data from both 1988 and 2007, but for the explanatory analysis that original dataset has been reduced to just flights from 2007 which departed from or originated in Pittsburgh, PA and experienced delays. "
   ]
  },
  {
   "cell_type": "code",
   "execution_count": 1,
   "metadata": {
    "slideshow": {
     "slide_type": "skip"
    }
   },
   "outputs": [],
   "source": [
    "#Import packages and set plots to be embedded\n",
    "import matplotlib.pyplot as plt\n",
    "import seaborn as sns\n",
    "import numpy as np\n",
    "import pandas as pd\n",
    "\n",
    "#Credit to https://stackoverflow.com/questions/40105796/turn-warning-off-in-a-cell-jupyter-notebook\n",
    "#This line of code was utitlized as a known bug for matplotlib was printing with a figure on slides and ruining the presentation\n",
    "#import warnings\n",
    "#warnings.filterwarnings('ignore')\n",
    "#warnings.simplefilter('ignore')\n",
    "\n",
    "%matplotlib inline"
   ]
  },
  {
   "cell_type": "code",
   "execution_count": 2,
   "metadata": {
    "slideshow": {
     "slide_type": "skip"
    }
   },
   "outputs": [],
   "source": [
    "#Create df\n",
    "pit_delays = pd.read_csv(\"pittsburgh_07_delays.csv\")"
   ]
  },
  {
   "cell_type": "markdown",
   "metadata": {
    "slideshow": {
     "slide_type": "skip"
    }
   },
   "source": [
    "### Dataframe Basic Information <a name=\"dataframe_information\"></a>"
   ]
  },
  {
   "cell_type": "code",
   "execution_count": 3,
   "metadata": {
    "slideshow": {
     "slide_type": "skip"
    }
   },
   "outputs": [
    {
     "data": {
      "text/html": [
       "<div>\n",
       "<style scoped>\n",
       "    .dataframe tbody tr th:only-of-type {\n",
       "        vertical-align: middle;\n",
       "    }\n",
       "\n",
       "    .dataframe tbody tr th {\n",
       "        vertical-align: top;\n",
       "    }\n",
       "\n",
       "    .dataframe thead th {\n",
       "        text-align: right;\n",
       "    }\n",
       "</style>\n",
       "<table border=\"1\" class=\"dataframe\">\n",
       "  <thead>\n",
       "    <tr style=\"text-align: right;\">\n",
       "      <th></th>\n",
       "      <th>Year</th>\n",
       "      <th>Month</th>\n",
       "      <th>DayofMonth</th>\n",
       "      <th>DayOfWeek</th>\n",
       "      <th>DepTime</th>\n",
       "      <th>CRSDepTime</th>\n",
       "      <th>ArrTime</th>\n",
       "      <th>CRSArrTime</th>\n",
       "      <th>UniqueCarrier</th>\n",
       "      <th>FlightNum</th>\n",
       "      <th>...</th>\n",
       "      <th>TaxiOut</th>\n",
       "      <th>Cancelled</th>\n",
       "      <th>CancellationCode</th>\n",
       "      <th>Diverted</th>\n",
       "      <th>CarrierDelay</th>\n",
       "      <th>WeatherDelay</th>\n",
       "      <th>NASDelay</th>\n",
       "      <th>SecurityDelay</th>\n",
       "      <th>LateAircraftDelay</th>\n",
       "      <th>DelayType</th>\n",
       "    </tr>\n",
       "  </thead>\n",
       "  <tbody>\n",
       "    <tr>\n",
       "      <th>0</th>\n",
       "      <td>2007</td>\n",
       "      <td>1</td>\n",
       "      <td>2</td>\n",
       "      <td>2</td>\n",
       "      <td>15:04:00</td>\n",
       "      <td>14:35:00</td>\n",
       "      <td>22:19:00</td>\n",
       "      <td>21:40:00</td>\n",
       "      <td>WN</td>\n",
       "      <td>2659</td>\n",
       "      <td>...</td>\n",
       "      <td>8</td>\n",
       "      <td>0</td>\n",
       "      <td>NaN</td>\n",
       "      <td>0</td>\n",
       "      <td>0</td>\n",
       "      <td>29</td>\n",
       "      <td>10</td>\n",
       "      <td>0</td>\n",
       "      <td>0</td>\n",
       "      <td>Weather, NAS</td>\n",
       "    </tr>\n",
       "    <tr>\n",
       "      <th>1</th>\n",
       "      <td>2007</td>\n",
       "      <td>1</td>\n",
       "      <td>2</td>\n",
       "      <td>2</td>\n",
       "      <td>14:00:00</td>\n",
       "      <td>13:35:00</td>\n",
       "      <td>16:08:00</td>\n",
       "      <td>15:50:00</td>\n",
       "      <td>WN</td>\n",
       "      <td>304</td>\n",
       "      <td>...</td>\n",
       "      <td>7</td>\n",
       "      <td>0</td>\n",
       "      <td>NaN</td>\n",
       "      <td>0</td>\n",
       "      <td>10</td>\n",
       "      <td>0</td>\n",
       "      <td>0</td>\n",
       "      <td>0</td>\n",
       "      <td>8</td>\n",
       "      <td>Carrier, Late Aircraft</td>\n",
       "    </tr>\n",
       "    <tr>\n",
       "      <th>2</th>\n",
       "      <td>2007</td>\n",
       "      <td>1</td>\n",
       "      <td>2</td>\n",
       "      <td>2</td>\n",
       "      <td>17:30:00</td>\n",
       "      <td>16:55:00</td>\n",
       "      <td>19:39:00</td>\n",
       "      <td>19:15:00</td>\n",
       "      <td>WN</td>\n",
       "      <td>723</td>\n",
       "      <td>...</td>\n",
       "      <td>11</td>\n",
       "      <td>0</td>\n",
       "      <td>NaN</td>\n",
       "      <td>0</td>\n",
       "      <td>4</td>\n",
       "      <td>0</td>\n",
       "      <td>0</td>\n",
       "      <td>0</td>\n",
       "      <td>20</td>\n",
       "      <td>Carrier, Late Aircraft</td>\n",
       "    </tr>\n",
       "    <tr>\n",
       "      <th>3</th>\n",
       "      <td>2007</td>\n",
       "      <td>1</td>\n",
       "      <td>2</td>\n",
       "      <td>2</td>\n",
       "      <td>18:36:00</td>\n",
       "      <td>18:10:00</td>\n",
       "      <td>19:55:00</td>\n",
       "      <td>19:25:00</td>\n",
       "      <td>WN</td>\n",
       "      <td>1597</td>\n",
       "      <td>...</td>\n",
       "      <td>25</td>\n",
       "      <td>0</td>\n",
       "      <td>NaN</td>\n",
       "      <td>0</td>\n",
       "      <td>2</td>\n",
       "      <td>0</td>\n",
       "      <td>4</td>\n",
       "      <td>0</td>\n",
       "      <td>24</td>\n",
       "      <td>Carrier, NAS, Late Aircraft</td>\n",
       "    </tr>\n",
       "    <tr>\n",
       "      <th>4</th>\n",
       "      <td>2007</td>\n",
       "      <td>1</td>\n",
       "      <td>2</td>\n",
       "      <td>2</td>\n",
       "      <td>15:55:00</td>\n",
       "      <td>14:50:00</td>\n",
       "      <td>21:45:00</td>\n",
       "      <td>20:55:00</td>\n",
       "      <td>WN</td>\n",
       "      <td>647</td>\n",
       "      <td>...</td>\n",
       "      <td>9</td>\n",
       "      <td>0</td>\n",
       "      <td>NaN</td>\n",
       "      <td>0</td>\n",
       "      <td>43</td>\n",
       "      <td>0</td>\n",
       "      <td>0</td>\n",
       "      <td>0</td>\n",
       "      <td>7</td>\n",
       "      <td>Carrier, Late Aircraft</td>\n",
       "    </tr>\n",
       "  </tbody>\n",
       "</table>\n",
       "<p>5 rows × 30 columns</p>\n",
       "</div>"
      ],
      "text/plain": [
       "   Year  Month  DayofMonth  DayOfWeek   DepTime CRSDepTime   ArrTime  \\\n",
       "0  2007      1           2          2  15:04:00   14:35:00  22:19:00   \n",
       "1  2007      1           2          2  14:00:00   13:35:00  16:08:00   \n",
       "2  2007      1           2          2  17:30:00   16:55:00  19:39:00   \n",
       "3  2007      1           2          2  18:36:00   18:10:00  19:55:00   \n",
       "4  2007      1           2          2  15:55:00   14:50:00  21:45:00   \n",
       "\n",
       "  CRSArrTime UniqueCarrier  FlightNum  ... TaxiOut  Cancelled  \\\n",
       "0   21:40:00            WN       2659  ...       8          0   \n",
       "1   15:50:00            WN        304  ...       7          0   \n",
       "2   19:15:00            WN        723  ...      11          0   \n",
       "3   19:25:00            WN       1597  ...      25          0   \n",
       "4   20:55:00            WN        647  ...       9          0   \n",
       "\n",
       "   CancellationCode  Diverted  CarrierDelay  WeatherDelay NASDelay  \\\n",
       "0               NaN         0             0            29       10   \n",
       "1               NaN         0            10             0        0   \n",
       "2               NaN         0             4             0        0   \n",
       "3               NaN         0             2             0        4   \n",
       "4               NaN         0            43             0        0   \n",
       "\n",
       "  SecurityDelay  LateAircraftDelay                    DelayType  \n",
       "0             0                  0                 Weather, NAS  \n",
       "1             0                  8       Carrier, Late Aircraft  \n",
       "2             0                 20       Carrier, Late Aircraft  \n",
       "3             0                 24  Carrier, NAS, Late Aircraft  \n",
       "4             0                  7       Carrier, Late Aircraft  \n",
       "\n",
       "[5 rows x 30 columns]"
      ]
     },
     "execution_count": 3,
     "metadata": {},
     "output_type": "execute_result"
    }
   ],
   "source": [
    "pit_delays.head()"
   ]
  },
  {
   "cell_type": "code",
   "execution_count": 4,
   "metadata": {
    "slideshow": {
     "slide_type": "skip"
    }
   },
   "outputs": [
    {
     "name": "stdout",
     "output_type": "stream",
     "text": [
      "<class 'pandas.core.frame.DataFrame'>\n",
      "RangeIndex: 25515 entries, 0 to 25514\n",
      "Data columns (total 30 columns):\n",
      " #   Column             Non-Null Count  Dtype  \n",
      "---  ------             --------------  -----  \n",
      " 0   Year               25515 non-null  int64  \n",
      " 1   Month              25515 non-null  int64  \n",
      " 2   DayofMonth         25515 non-null  int64  \n",
      " 3   DayOfWeek          25515 non-null  int64  \n",
      " 4   DepTime            25506 non-null  object \n",
      " 5   CRSDepTime         25515 non-null  object \n",
      " 6   ArrTime            25495 non-null  object \n",
      " 7   CRSArrTime         25515 non-null  object \n",
      " 8   UniqueCarrier      25515 non-null  object \n",
      " 9   FlightNum          25515 non-null  int64  \n",
      " 10  TailNum            25515 non-null  object \n",
      " 11  ActualElapsedTime  25515 non-null  float64\n",
      " 12  CRSElapsedTime     25515 non-null  float64\n",
      " 13  AirTime            25515 non-null  float64\n",
      " 14  ArrDelay           25515 non-null  float64\n",
      " 15  DepDelay           25515 non-null  float64\n",
      " 16  Origin             25515 non-null  object \n",
      " 17  Dest               25515 non-null  object \n",
      " 18  Distance           25515 non-null  int64  \n",
      " 19  TaxiIn             25515 non-null  int64  \n",
      " 20  TaxiOut            25515 non-null  int64  \n",
      " 21  Cancelled          25515 non-null  int64  \n",
      " 22  CancellationCode   0 non-null      float64\n",
      " 23  Diverted           25515 non-null  int64  \n",
      " 24  CarrierDelay       25515 non-null  int64  \n",
      " 25  WeatherDelay       25515 non-null  int64  \n",
      " 26  NASDelay           25515 non-null  int64  \n",
      " 27  SecurityDelay      25515 non-null  int64  \n",
      " 28  LateAircraftDelay  25515 non-null  int64  \n",
      " 29  DelayType          25515 non-null  object \n",
      "dtypes: float64(6), int64(15), object(9)\n",
      "memory usage: 5.8+ MB\n"
     ]
    }
   ],
   "source": [
    "pit_delays.info()"
   ]
  },
  {
   "cell_type": "code",
   "execution_count": 5,
   "metadata": {
    "slideshow": {
     "slide_type": "skip"
    }
   },
   "outputs": [
    {
     "data": {
      "text/html": [
       "<div>\n",
       "<style scoped>\n",
       "    .dataframe tbody tr th:only-of-type {\n",
       "        vertical-align: middle;\n",
       "    }\n",
       "\n",
       "    .dataframe tbody tr th {\n",
       "        vertical-align: top;\n",
       "    }\n",
       "\n",
       "    .dataframe thead th {\n",
       "        text-align: right;\n",
       "    }\n",
       "</style>\n",
       "<table border=\"1\" class=\"dataframe\">\n",
       "  <thead>\n",
       "    <tr style=\"text-align: right;\">\n",
       "      <th></th>\n",
       "      <th>Year</th>\n",
       "      <th>Month</th>\n",
       "      <th>DayofMonth</th>\n",
       "      <th>DayOfWeek</th>\n",
       "      <th>FlightNum</th>\n",
       "      <th>ActualElapsedTime</th>\n",
       "      <th>CRSElapsedTime</th>\n",
       "      <th>AirTime</th>\n",
       "      <th>ArrDelay</th>\n",
       "      <th>DepDelay</th>\n",
       "      <th>...</th>\n",
       "      <th>TaxiIn</th>\n",
       "      <th>TaxiOut</th>\n",
       "      <th>Cancelled</th>\n",
       "      <th>CancellationCode</th>\n",
       "      <th>Diverted</th>\n",
       "      <th>CarrierDelay</th>\n",
       "      <th>WeatherDelay</th>\n",
       "      <th>NASDelay</th>\n",
       "      <th>SecurityDelay</th>\n",
       "      <th>LateAircraftDelay</th>\n",
       "    </tr>\n",
       "  </thead>\n",
       "  <tbody>\n",
       "    <tr>\n",
       "      <th>count</th>\n",
       "      <td>25515.0</td>\n",
       "      <td>25515.000000</td>\n",
       "      <td>25515.000000</td>\n",
       "      <td>25515.000000</td>\n",
       "      <td>25515.000000</td>\n",
       "      <td>25515.000000</td>\n",
       "      <td>25515.000000</td>\n",
       "      <td>25515.000000</td>\n",
       "      <td>25515.000000</td>\n",
       "      <td>25515.000000</td>\n",
       "      <td>...</td>\n",
       "      <td>25515.000000</td>\n",
       "      <td>25515.000000</td>\n",
       "      <td>25515.0</td>\n",
       "      <td>0.0</td>\n",
       "      <td>25515.0</td>\n",
       "      <td>25515.000000</td>\n",
       "      <td>25515.000000</td>\n",
       "      <td>25515.000000</td>\n",
       "      <td>25515.000000</td>\n",
       "      <td>25515.000000</td>\n",
       "    </tr>\n",
       "    <tr>\n",
       "      <th>mean</th>\n",
       "      <td>2007.0</td>\n",
       "      <td>6.233431</td>\n",
       "      <td>15.800235</td>\n",
       "      <td>3.886106</td>\n",
       "      <td>2599.530159</td>\n",
       "      <td>125.724397</td>\n",
       "      <td>116.547208</td>\n",
       "      <td>92.386518</td>\n",
       "      <td>52.203371</td>\n",
       "      <td>43.026181</td>\n",
       "      <td>...</td>\n",
       "      <td>7.946502</td>\n",
       "      <td>25.391378</td>\n",
       "      <td>0.0</td>\n",
       "      <td>NaN</td>\n",
       "      <td>0.0</td>\n",
       "      <td>13.091593</td>\n",
       "      <td>2.703194</td>\n",
       "      <td>15.728317</td>\n",
       "      <td>0.076426</td>\n",
       "      <td>20.603841</td>\n",
       "    </tr>\n",
       "    <tr>\n",
       "      <th>std</th>\n",
       "      <td>0.0</td>\n",
       "      <td>3.476602</td>\n",
       "      <td>8.597204</td>\n",
       "      <td>1.960544</td>\n",
       "      <td>1888.638510</td>\n",
       "      <td>57.601936</td>\n",
       "      <td>53.804844</td>\n",
       "      <td>56.475078</td>\n",
       "      <td>42.085848</td>\n",
       "      <td>44.574080</td>\n",
       "      <td>...</td>\n",
       "      <td>6.634130</td>\n",
       "      <td>20.100771</td>\n",
       "      <td>0.0</td>\n",
       "      <td>NaN</td>\n",
       "      <td>0.0</td>\n",
       "      <td>26.048881</td>\n",
       "      <td>14.316517</td>\n",
       "      <td>25.863651</td>\n",
       "      <td>1.574033</td>\n",
       "      <td>34.951583</td>\n",
       "    </tr>\n",
       "    <tr>\n",
       "      <th>min</th>\n",
       "      <td>2007.0</td>\n",
       "      <td>1.000000</td>\n",
       "      <td>1.000000</td>\n",
       "      <td>1.000000</td>\n",
       "      <td>1.000000</td>\n",
       "      <td>32.000000</td>\n",
       "      <td>50.000000</td>\n",
       "      <td>0.000000</td>\n",
       "      <td>15.000000</td>\n",
       "      <td>-29.000000</td>\n",
       "      <td>...</td>\n",
       "      <td>0.000000</td>\n",
       "      <td>1.000000</td>\n",
       "      <td>0.0</td>\n",
       "      <td>NaN</td>\n",
       "      <td>0.0</td>\n",
       "      <td>0.000000</td>\n",
       "      <td>0.000000</td>\n",
       "      <td>0.000000</td>\n",
       "      <td>0.000000</td>\n",
       "      <td>0.000000</td>\n",
       "    </tr>\n",
       "    <tr>\n",
       "      <th>25%</th>\n",
       "      <td>2007.0</td>\n",
       "      <td>3.000000</td>\n",
       "      <td>8.000000</td>\n",
       "      <td>2.000000</td>\n",
       "      <td>1058.000000</td>\n",
       "      <td>86.000000</td>\n",
       "      <td>83.000000</td>\n",
       "      <td>57.000000</td>\n",
       "      <td>23.000000</td>\n",
       "      <td>11.000000</td>\n",
       "      <td>...</td>\n",
       "      <td>5.000000</td>\n",
       "      <td>13.000000</td>\n",
       "      <td>0.0</td>\n",
       "      <td>NaN</td>\n",
       "      <td>0.0</td>\n",
       "      <td>0.000000</td>\n",
       "      <td>0.000000</td>\n",
       "      <td>0.000000</td>\n",
       "      <td>0.000000</td>\n",
       "      <td>0.000000</td>\n",
       "    </tr>\n",
       "    <tr>\n",
       "      <th>50%</th>\n",
       "      <td>2007.0</td>\n",
       "      <td>6.000000</td>\n",
       "      <td>16.000000</td>\n",
       "      <td>4.000000</td>\n",
       "      <td>1830.000000</td>\n",
       "      <td>108.000000</td>\n",
       "      <td>99.000000</td>\n",
       "      <td>70.000000</td>\n",
       "      <td>36.000000</td>\n",
       "      <td>31.000000</td>\n",
       "      <td>...</td>\n",
       "      <td>6.000000</td>\n",
       "      <td>19.000000</td>\n",
       "      <td>0.0</td>\n",
       "      <td>NaN</td>\n",
       "      <td>0.0</td>\n",
       "      <td>0.000000</td>\n",
       "      <td>0.000000</td>\n",
       "      <td>6.000000</td>\n",
       "      <td>0.000000</td>\n",
       "      <td>0.000000</td>\n",
       "    </tr>\n",
       "    <tr>\n",
       "      <th>75%</th>\n",
       "      <td>2007.0</td>\n",
       "      <td>9.000000</td>\n",
       "      <td>23.000000</td>\n",
       "      <td>5.000000</td>\n",
       "      <td>3750.000000</td>\n",
       "      <td>152.000000</td>\n",
       "      <td>135.000000</td>\n",
       "      <td>116.000000</td>\n",
       "      <td>66.000000</td>\n",
       "      <td>61.000000</td>\n",
       "      <td>...</td>\n",
       "      <td>9.000000</td>\n",
       "      <td>31.000000</td>\n",
       "      <td>0.0</td>\n",
       "      <td>NaN</td>\n",
       "      <td>0.0</td>\n",
       "      <td>16.000000</td>\n",
       "      <td>0.000000</td>\n",
       "      <td>21.000000</td>\n",
       "      <td>0.000000</td>\n",
       "      <td>28.000000</td>\n",
       "    </tr>\n",
       "    <tr>\n",
       "      <th>max</th>\n",
       "      <td>2007.0</td>\n",
       "      <td>12.000000</td>\n",
       "      <td>31.000000</td>\n",
       "      <td>7.000000</td>\n",
       "      <td>7497.000000</td>\n",
       "      <td>460.000000</td>\n",
       "      <td>343.000000</td>\n",
       "      <td>368.000000</td>\n",
       "      <td>355.000000</td>\n",
       "      <td>367.000000</td>\n",
       "      <td>...</td>\n",
       "      <td>160.000000</td>\n",
       "      <td>227.000000</td>\n",
       "      <td>0.0</td>\n",
       "      <td>NaN</td>\n",
       "      <td>0.0</td>\n",
       "      <td>200.000000</td>\n",
       "      <td>200.000000</td>\n",
       "      <td>200.000000</td>\n",
       "      <td>130.000000</td>\n",
       "      <td>200.000000</td>\n",
       "    </tr>\n",
       "  </tbody>\n",
       "</table>\n",
       "<p>8 rows × 21 columns</p>\n",
       "</div>"
      ],
      "text/plain": [
       "          Year         Month    DayofMonth     DayOfWeek     FlightNum  \\\n",
       "count  25515.0  25515.000000  25515.000000  25515.000000  25515.000000   \n",
       "mean    2007.0      6.233431     15.800235      3.886106   2599.530159   \n",
       "std        0.0      3.476602      8.597204      1.960544   1888.638510   \n",
       "min     2007.0      1.000000      1.000000      1.000000      1.000000   \n",
       "25%     2007.0      3.000000      8.000000      2.000000   1058.000000   \n",
       "50%     2007.0      6.000000     16.000000      4.000000   1830.000000   \n",
       "75%     2007.0      9.000000     23.000000      5.000000   3750.000000   \n",
       "max     2007.0     12.000000     31.000000      7.000000   7497.000000   \n",
       "\n",
       "       ActualElapsedTime  CRSElapsedTime       AirTime      ArrDelay  \\\n",
       "count       25515.000000    25515.000000  25515.000000  25515.000000   \n",
       "mean          125.724397      116.547208     92.386518     52.203371   \n",
       "std            57.601936       53.804844     56.475078     42.085848   \n",
       "min            32.000000       50.000000      0.000000     15.000000   \n",
       "25%            86.000000       83.000000     57.000000     23.000000   \n",
       "50%           108.000000       99.000000     70.000000     36.000000   \n",
       "75%           152.000000      135.000000    116.000000     66.000000   \n",
       "max           460.000000      343.000000    368.000000    355.000000   \n",
       "\n",
       "           DepDelay  ...        TaxiIn       TaxiOut  Cancelled  \\\n",
       "count  25515.000000  ...  25515.000000  25515.000000    25515.0   \n",
       "mean      43.026181  ...      7.946502     25.391378        0.0   \n",
       "std       44.574080  ...      6.634130     20.100771        0.0   \n",
       "min      -29.000000  ...      0.000000      1.000000        0.0   \n",
       "25%       11.000000  ...      5.000000     13.000000        0.0   \n",
       "50%       31.000000  ...      6.000000     19.000000        0.0   \n",
       "75%       61.000000  ...      9.000000     31.000000        0.0   \n",
       "max      367.000000  ...    160.000000    227.000000        0.0   \n",
       "\n",
       "       CancellationCode  Diverted  CarrierDelay  WeatherDelay      NASDelay  \\\n",
       "count               0.0   25515.0  25515.000000  25515.000000  25515.000000   \n",
       "mean                NaN       0.0     13.091593      2.703194     15.728317   \n",
       "std                 NaN       0.0     26.048881     14.316517     25.863651   \n",
       "min                 NaN       0.0      0.000000      0.000000      0.000000   \n",
       "25%                 NaN       0.0      0.000000      0.000000      0.000000   \n",
       "50%                 NaN       0.0      0.000000      0.000000      6.000000   \n",
       "75%                 NaN       0.0     16.000000      0.000000     21.000000   \n",
       "max                 NaN       0.0    200.000000    200.000000    200.000000   \n",
       "\n",
       "       SecurityDelay  LateAircraftDelay  \n",
       "count   25515.000000       25515.000000  \n",
       "mean        0.076426          20.603841  \n",
       "std         1.574033          34.951583  \n",
       "min         0.000000           0.000000  \n",
       "25%         0.000000           0.000000  \n",
       "50%         0.000000           0.000000  \n",
       "75%         0.000000          28.000000  \n",
       "max       130.000000         200.000000  \n",
       "\n",
       "[8 rows x 21 columns]"
      ]
     },
     "execution_count": 5,
     "metadata": {},
     "output_type": "execute_result"
    }
   ],
   "source": [
    "pit_delays.describe()"
   ]
  },
  {
   "cell_type": "markdown",
   "metadata": {
    "slideshow": {
     "slide_type": "skip"
    }
   },
   "source": [
    "This dataframe consists of 30 columns featuring 25,515 rows of flight data for flights to and from Pittsburgh, PA in 2007 which experienced delays. It should be noted that the CancellationCode column has zero non-null values, as none of these flights were cancelled. Normally that column would be dropped in a cleaning process, but instead it will just be ignored as it will not impact this explanatory visual analysis."
   ]
  },
  {
   "cell_type": "markdown",
   "metadata": {
    "slideshow": {
     "slide_type": "slide"
    }
   },
   "source": [
    "## Explanatory Analysis <a name=\"explanatory_analysis\"></a>"
   ]
  },
  {
   "cell_type": "markdown",
   "metadata": {
    "slideshow": {
     "slide_type": "slide"
    }
   },
   "source": [
    "### Univariate Analysis <a name=\"univariate_analysis\"></a>"
   ]
  },
  {
   "cell_type": "markdown",
   "metadata": {
    "slideshow": {
     "slide_type": "slide"
    }
   },
   "source": [
    "The first few figures will create some basic visualizations to show simple information about the dataset prior to the more detailed/insightful bivariate and multivariate analysis."
   ]
  },
  {
   "cell_type": "markdown",
   "metadata": {
    "slideshow": {
     "slide_type": "slide"
    }
   },
   "source": [
    "#### a. Most Popular Month to Fly <a name=\"popular_month\"></a>"
   ]
  },
  {
   "cell_type": "code",
   "execution_count": 7,
   "metadata": {
    "slideshow": {
     "slide_type": "subslide"
    }
   },
   "outputs": [
    {
     "data": {
      "image/png": "[encoded data removed]",
      "text/plain": [
       "<Figure size 864x432 with 1 Axes>"
      ]
     },
     "metadata": {
      "needs_background": "light"
     },
     "output_type": "display_data"
    }
   ],
   "source": [
    "months = ['Jan', 'Feb', 'Mar', 'Apr', 'May', 'Jun', 'Jul', 'Aug', 'Sep', 'Oct', 'Nov', 'Dec']\n",
    "base_color = sns.color_palette()[0]\n",
    "\n",
    "fig, ax = plt.subplots(figsize=(12, 6))\n",
    "fig.suptitle('The Most Popular Month to Fly')\n",
    "\n",
    "pit_month = pit_delays['Month'].value_counts().sort_index()\n",
    "\n",
    "#Monthly flight data\n",
    "sns.barplot(x=pit_month.index, y=pit_month, color=base_color)\n",
    "ax.set_xticklabels(labels=months)\n",
    "ax.set_ylabel('Flight Count', fontsize=12)\n",
    "ax.set_xlabel('Months', fontsize=12);"
   ]
  },
  {
   "cell_type": "markdown",
   "metadata": {
    "slideshow": {
     "slide_type": "subslide"
    }
   },
   "source": []
  },
  {
   "cell_type": "markdown",
   "metadata": {
    "slideshow": {
     "slide_type": "slide"
    }
   },
   "source": [
    "#### b. Most Popular Day of the Week <a name=\"popular_day\"></a>"
   ]
  },
  {
   "cell_type": "code",
   "execution_count": 8,
   "metadata": {
    "slideshow": {
     "slide_type": "subslide"
    }
   },
   "outputs": [
    {
     "data": {
      "text/plain": [
       "Text(0.5, 0, 'Day of the Week')"
      ]
     },
     "execution_count": 8,
     "metadata": {},
     "output_type": "execute_result"
    },
    {
     "data": {
      "image/png": "[encoded data removed]",
      "text/plain": [
       "<Figure size 864x432 with 1 Axes>"
      ]
     },
     "metadata": {
      "needs_background": "light"
     },
     "output_type": "display_data"
    }
   ],
   "source": [
    "days_of_week = ['Mon', 'Tues', 'Wed', 'Thu', 'Fri', 'Sat', 'Sun']\n",
    "base_color = sns.color_palette()[0]\n",
    "\n",
    "fig, ax = plt.subplots(figsize=(12, 6))\n",
    "fig.suptitle('The Most Popular Day of the Week to Fly')\n",
    "\n",
    "pit_day = pit_delays['DayOfWeek'].value_counts().sort_index()\n",
    "\n",
    "#Plot the 2007 day of week flight data\n",
    "sns.barplot(x=pit_day.index, y=pit_day, color=base_color)\n",
    "ax.set_xticklabels(labels=days_of_week)\n",
    "ax.set_ylabel('Flight Count', fontsize=12)\n",
    "ax.set_xlabel('Day of the Week', fontsize=12);"
   ]
  },
  {
   "cell_type": "markdown",
   "metadata": {
    "slideshow": {
     "slide_type": "subslide"
    }
   },
   "source": []
  }
 ],
 "metadata": {
  "celltoolbar": "Slideshow",
  "kernelspec": {
   "display_name": "Python 3",
   "language": "python",
   "name": "python3"
  },
  "language_info": {
   "codemirror_mode": {
    "name": "ipython",
    "version": 3
   },
   "file_extension": ".py",
   "mimetype": "text/x-python",
   "name": "python",
   "nbconvert_exporter": "python",
   "pygments_lexer": "ipython3",
   "version": "3.7.9"
  }
 },
 "nbformat": 4,
 "nbformat_minor": 4
}
