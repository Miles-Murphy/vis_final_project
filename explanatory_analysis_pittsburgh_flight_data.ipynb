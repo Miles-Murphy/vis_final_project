{
 "cells": [
  {
   "cell_type": "markdown",
   "metadata": {},
   "source": [
    "# <center>~ Pittsburgh Flight Data Explanatory Analysis ~</center>\n",
    "## <center>An exploration into Delay Flights in Pittsburgh, PA in 2007</center>\n",
    "<p><em>Created by Miles Murphy</em></p>\n",
    "<em>November 11, 2020</em>"
   ]
  },
  {
   "cell_type": "markdown",
   "metadata": {},
   "source": [
    "## Introduction: <a name=\"introduction\"></a>"
   ]
  },
  {
   "cell_type": "markdown",
   "metadata": {},
   "source": [
    "# Table of Contents:\n",
    "1. [Introduction](#introduction)\n",
    "\n",
    "2. [Project Background](#project_background)\n",
    "    1. [Data Source Information](#data_source_information)\n",
    "3. [Data Wrangling](#data_wrangling)\n",
    "    1. [Data Details](#data_details)\n",
    "    2. [Data Tidiness](#data_tidiness)\n",
    "    3. [Data Quality](#data_quality)\n",
    "4. [Data Exploration](#data_exploration)\n",
    "    1. [Univariate Exploration](#univariate_exploration)\n",
    "    2. [Bivariate Exploration](#bivariate_exploration)\n",
    "    3. [Multivariate Exploration](#multivariate_exploration)\n",
    "5. [Project Conclusions and Results](#project_conclusions)\n"
   ]
  },
  {
   "cell_type": "code",
   "execution_count": null,
   "metadata": {},
   "outputs": [],
   "source": []
  },
  {
   "cell_type": "code",
   "execution_count": null,
   "metadata": {},
   "outputs": [],
   "source": []
  },
  {
   "cell_type": "code",
   "execution_count": null,
   "metadata": {},
   "outputs": [],
   "source": [
    "#Import packages and set plots to be embedded\n",
    "import matplotlib.pyplot as plt\n",
    "import seaborn as sns\n",
    "import numpy as np\n",
    "import pandas as pd\n",
    "\n",
    "#Credit to https://stackoverflow.com/questions/40105796/turn-warning-off-in-a-cell-jupyter-notebook\n",
    "#This line of code was utitlized as a known bug for matplotlib was printing with a figure on slides and ruining the presentation\n",
    "#import warnings\n",
    "#warnings.filterwarnings('ignore')\n",
    "#warnings.simplefilter('ignore')\n",
    "\n",
    "%matplotlib inline"
   ]
  },
  {
   "cell_type": "code",
   "execution_count": null,
   "metadata": {},
   "outputs": [],
   "source": [
    "#Create df\n",
    "pit_delays = pd.read_csv(\"pittsburgh_07_delays.csv\")"
   ]
  }
 ],
 "metadata": {
  "kernelspec": {
   "display_name": "Python 3",
   "language": "python",
   "name": "python3"
  },
  "language_info": {
   "codemirror_mode": {
    "name": "ipython",
    "version": 3
   },
   "file_extension": ".py",
   "mimetype": "text/x-python",
   "name": "python",
   "nbconvert_exporter": "python",
   "pygments_lexer": "ipython3",
   "version": "3.7.9"
  }
 },
 "nbformat": 4,
 "nbformat_minor": 4
}
