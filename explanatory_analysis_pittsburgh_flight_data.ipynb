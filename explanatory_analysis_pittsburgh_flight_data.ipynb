{
 "cells": [
  {
   "cell_type": "markdown",
   "metadata": {},
   "source": [
    "# <center>~ Pittsburgh Flight Data Explanatory Analysis ~</center>\n",
    "## <center>An exploration into Delay Flights in Pittsburgh, PA in 2007</center>\n",
    "<p><em>Created by Miles Murphy</em></p>\n",
    "<em>November 11, 2020</em>"
   ]
  },
  {
   "cell_type": "markdown",
   "metadata": {},
   "source": [
    "## Introduction: <a name=\"introduction\"></a>"
   ]
  },
  {
   "cell_type": "markdown",
   "metadata": {},
   "source": [
    "The following analysis will build upon the Exploratory analysis conducted on US Flight Data. The previous analysis focused on understand the basic nature of the flight data and then focusing in on flight data in Pittsburgh, PA in the years 1988 and 2007. This years are arbitrarily chosen from a data perspective, but are very important to the analyst's life as they are the year of his birth in Pittsburgh and the year he left Pittsburgh as an 18 year old \"adult\". \n",
    "\n",
    "Now, after being created and cleaned in the exploratory analysis, this delays subdataset features just flights in Pittsburgh in 2007 which experience delays from one (or more) of 5 delay types; Carrier, Weather, NAS (National Air System), Security, and Late Aircraft delays. The following exploratory analysis will look at some basic features of this dataframe with univariate analysis and then expand upon those features with bivariate or multivariate figures. "
   ]
  },
  {
   "cell_type": "markdown",
   "metadata": {},
   "source": [
    "# Table of Contents:\n",
    "1. [Introduction](#introduction)\n",
    "2. [Project Background](#project_background)\n",
    "    1. [Data Source Information](#data_source_information)\n",
    "    2. [Dataframe Basic Information](#dataframe_information)\n",
    "3. [Explanatory Analysis](#explanatory_analysis)\n",
    "    1. [Univariate Exploration](#univariate_exploration)\n",
    "        a. [Most Popular Month to Fly](#popular_month)\n",
    "        b. [Most Popular Day of the Week to Fly](#popular_day)\n",
    "    2. [Bivariate Exploration](#bivariate_exploration)\n",
    "    3. [Multivariate Exploration](#multivariate_exploration)\n",
    "5. [Project Conclusions and Results](#project_conclusions)\n"
   ]
  },
  {
   "cell_type": "markdown",
   "metadata": {},
   "source": [
    "## Project Background: <a name=\"project_background\"></a>"
   ]
  },
  {
   "cell_type": "markdown",
   "metadata": {},
   "source": [
    "This explanatory data analysis is part of the larger Udacity Data Analyst Nanodegree. The final project for the Data Visualization process involves the exploratory and explanatory analysis of a dataset. US Flight data was one of the provided options."
   ]
  },
  {
   "cell_type": "markdown",
   "metadata": {},
   "source": [
    "### Data Source Information: <a name=\"data_source_information\"></a>"
   ]
  },
  {
   "cell_type": "markdown",
   "metadata": {},
   "source": [
    "The US flight data utilized in both the exploratory analysis and this explanatory analysis of delayed flights in Pittsburgh all come from the original datasets colelcted by the United States Department of Transportation, Bureau of Transportation Statistics. The Bureau has been collecting data about the 'on-time' performance of all flights from 1987 to the present. The exploratory analysis originally explored flight data from both 1988 and 2007, but for the explanatory analysis that original dataset has been reduced to just flights from 2007 which departed from or originated in Pittsburgh, PA and experienced delays. "
   ]
  },
  {
   "cell_type": "code",
   "execution_count": null,
   "metadata": {},
   "outputs": [],
   "source": [
    "#Import packages and set plots to be embedded\n",
    "import matplotlib.pyplot as plt\n",
    "import seaborn as sns\n",
    "import numpy as np\n",
    "import pandas as pd\n",
    "\n",
    "#Credit to https://stackoverflow.com/questions/40105796/turn-warning-off-in-a-cell-jupyter-notebook\n",
    "#This line of code was utitlized as a known bug for matplotlib was printing with a figure on slides and ruining the presentation\n",
    "#import warnings\n",
    "#warnings.filterwarnings('ignore')\n",
    "#warnings.simplefilter('ignore')\n",
    "\n",
    "%matplotlib inline"
   ]
  },
  {
   "cell_type": "code",
   "execution_count": null,
   "metadata": {},
   "outputs": [],
   "source": [
    "#Create df\n",
    "pit_delays = pd.read_csv(\"pittsburgh_07_delays.csv\")"
   ]
  },
  {
   "cell_type": "markdown",
   "metadata": {},
   "source": [
    "### Dataframe Basic Information <a name=\"dataframe_information\"></a>"
   ]
  },
  {
   "cell_type": "code",
   "execution_count": null,
   "metadata": {},
   "outputs": [],
   "source": [
    "pit_delays.head()"
   ]
  },
  {
   "cell_type": "code",
   "execution_count": null,
   "metadata": {},
   "outputs": [],
   "source": [
    "pit_delays.info()"
   ]
  },
  {
   "cell_type": "code",
   "execution_count": null,
   "metadata": {},
   "outputs": [],
   "source": [
    "pit_delays.describe()"
   ]
  },
  {
   "cell_type": "markdown",
   "metadata": {},
   "source": [
    "## Explanatory Analysis <a name=\"explanatory_analysis\"></a>"
   ]
  },
  {
   "cell_type": "markdown",
   "metadata": {},
   "source": [
    "### Univariate Analysis <a name=\"univariate_analysis\"></a>"
   ]
  },
  {
   "cell_type": "markdown",
   "metadata": {},
   "source": [
    "The first few figures will create some basic visualizations to show simple information about the dataset prior to the more detailed/insightful bivariate and multivariate analysis."
   ]
  },
  {
   "cell_type": "markdown",
   "metadata": {},
   "source": [
    "#### a. Most Popular Month to Fly <a name=\"popular_month\"></a>"
   ]
  },
  {
   "cell_type": "code",
   "execution_count": null,
   "metadata": {},
   "outputs": [],
   "source": [
    "months = ['Jan', 'Feb', 'Mar', 'Apr', 'May', 'Jun', 'Jul', 'Aug', 'Sep', 'Oct', 'Nov', 'Dec']\n",
    "base_color = sns.color_palette()[0]\n",
    "\n",
    "fig, ax = plt.subplots(figsize=(12, 6))\n",
    "fig.suptitle('The Most Popular Month to Fly')\n",
    "\n",
    "pit_month = pit_delays['Month'].value_counts().sort_index()\n",
    "\n",
    "#Monthly flight data\n",
    "sns.barplot(x=pit_month.index, y=pit_month, color=base_color)\n",
    "ax.set_xticklabels(labels=months)\n",
    "ax.set_ylabel('Flight Count', fontsize=12)\n",
    "ax.set_xlabel('Months', fontsize=12)\n",
    "#ax.set_ylim(7000, 9100);"
   ]
  },
  {
   "cell_type": "markdown",
   "metadata": {},
   "source": []
  },
  {
   "cell_type": "markdown",
   "metadata": {},
   "source": [
    "#### b. Most Popular Day of the Week <a name=\"popular_day\"></a>"
   ]
  },
  {
   "cell_type": "code",
   "execution_count": null,
   "metadata": {},
   "outputs": [],
   "source": [
    "days_of_week = ['Mon', 'Tues', 'Wed', 'Thu', 'Fri', 'Sat', 'Sun']\n",
    "base_color = sns.color_palette()[0]\n",
    "\n",
    "fig, ax = plt.subplots(figsize=(12, 6))\n",
    "fig.suptitle('The Most Popular Day of the Week to Fly')\n",
    "\n",
    "pit_day = pit_delays['DayOfWeek'].value_counts().sort_index()\n",
    "\n",
    "#Plot the 2007 day of week flight data\n",
    "sns.barplot(x=pit_day.index, y=pit_day, color=base_color)\n",
    "ax.set_xticklabels(labels=days_of_week)\n",
    "ax.set_ylabel('Flight Count', fontsize=12)\n",
    "ax.set_xlabel('Day of the Week', fontsize=12)\n",
    "#ax.set_ylim(11500, 14900"
   ]
  },
  {
   "cell_type": "code",
   "execution_count": null,
   "metadata": {},
   "outputs": [],
   "source": []
  }
 ],
 "metadata": {
  "kernelspec": {
   "display_name": "Python 3",
   "language": "python",
   "name": "python3"
  },
  "language_info": {
   "codemirror_mode": {
    "name": "ipython",
    "version": 3
   },
   "file_extension": ".py",
   "mimetype": "text/x-python",
   "name": "python",
   "nbconvert_exporter": "python",
   "pygments_lexer": "ipython3",
   "version": "3.7.9"
  }
 },
 "nbformat": 4,
 "nbformat_minor": 4
}
